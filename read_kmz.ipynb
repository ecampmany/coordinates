{
 "cells": [
  {
   "cell_type": "code",
   "execution_count": 1,
   "id": "bd962c22",
   "metadata": {},
   "outputs": [],
   "source": [
    "from pykml import parser\n",
    "from shapely.geometry import Polygon, box"
   ]
  },
  {
   "cell_type": "code",
   "execution_count": 2,
   "id": "4d0f54ce",
   "metadata": {},
   "outputs": [],
   "source": [
    "# Specify the path to the KMZ file\n",
    "kmz_file = \"../../../Downloads/Ica_South.kml\""
   ]
  },
  {
   "cell_type": "code",
   "execution_count": 3,
   "id": "14fe3a0b",
   "metadata": {},
   "outputs": [
    {
     "ename": "AttributeError",
     "evalue": "no such child: {http://www.opengis.net/kml/2.2}Polygon",
     "output_type": "error",
     "traceback": [
      "\u001b[0;31m---------------------------------------------------------------------------\u001b[0m",
      "\u001b[0;31mAttributeError\u001b[0m                            Traceback (most recent call last)",
      "Cell \u001b[0;32mIn [3], line 6\u001b[0m\n\u001b[1;32m      3\u001b[0m     root \u001b[38;5;241m=\u001b[39m parser\u001b[38;5;241m.\u001b[39mparse(f)\u001b[38;5;241m.\u001b[39mgetroot()\n\u001b[1;32m      5\u001b[0m \u001b[38;5;66;03m# Extract the coordinates of the polygon\u001b[39;00m\n\u001b[0;32m----> 6\u001b[0m coords_str \u001b[38;5;241m=\u001b[39m \u001b[38;5;28mstr\u001b[39m(\u001b[43mroot\u001b[49m\u001b[38;5;241;43m.\u001b[39;49m\u001b[43mDocument\u001b[49m\u001b[38;5;241;43m.\u001b[39;49m\u001b[43mPlacemark\u001b[49m\u001b[38;5;241;43m.\u001b[39;49m\u001b[43mPolygon\u001b[49m\u001b[38;5;241m.\u001b[39mouterBoundaryIs\u001b[38;5;241m.\u001b[39mLinearRing\u001b[38;5;241m.\u001b[39mcoordinates)\n\u001b[1;32m      7\u001b[0m coords_list \u001b[38;5;241m=\u001b[39m coords_str\u001b[38;5;241m.\u001b[39mstrip()\u001b[38;5;241m.\u001b[39msplit()\n\u001b[1;32m      9\u001b[0m \u001b[38;5;66;03m# Convert the coordinates to a Shapely polygon object\u001b[39;00m\n",
      "File \u001b[0;32msrc/lxml/objectify.pyx:234\u001b[0m, in \u001b[0;36mlxml.objectify.ObjectifiedElement.__getattr__\u001b[0;34m()\u001b[0m\n",
      "File \u001b[0;32msrc/lxml/objectify.pyx:453\u001b[0m, in \u001b[0;36mlxml.objectify._lookupChildOrRaise\u001b[0;34m()\u001b[0m\n",
      "\u001b[0;31mAttributeError\u001b[0m: no such child: {http://www.opengis.net/kml/2.2}Polygon"
     ]
    }
   ],
   "source": [
    "# Parse the KMZ file using pykml\n",
    "with open(kmz_file, 'rb') as f:\n",
    "    root = parser.parse(f).getroot()\n",
    "\n",
    "# Extract the coordinates of the polygon\n",
    "coords_str = str(root.Document.Placemark.Polygon.outerBoundaryIs.LinearRing.coordinates)\n",
    "coords_list = coords_str.strip().split()\n",
    "\n",
    "# Convert the coordinates to a Shapely polygon object\n",
    "coords_tuples = [(float(x.split(',')[0]), float(x.split(',')[1])) for x in coords_list]\n",
    "polygon = Polygon(coords_tuples)\n",
    "\n",
    "# Calculate the minimum bounding box\n",
    "min_bbox = polygon.minimum_rotated_rectangle\n",
    "\n",
    "# Calculate the area of the minimum bounding box\n",
    "bbox_area = min_bbox.area\n",
    "\n",
    "# Print the area of the minimum bounding box\n",
    "print(\"The area of the minimum bounding box is: \", bbox_area)"
   ]
  },
  {
   "cell_type": "code",
   "execution_count": null,
   "id": "8a567301",
   "metadata": {},
   "outputs": [],
   "source": []
  }
 ],
 "metadata": {
  "kernelspec": {
   "display_name": "vortexpy-dev",
   "language": "python",
   "name": "vortexpy-dev"
  },
  "language_info": {
   "codemirror_mode": {
    "name": "ipython",
    "version": 3
   },
   "file_extension": ".py",
   "mimetype": "text/x-python",
   "name": "python",
   "nbconvert_exporter": "python",
   "pygments_lexer": "ipython3",
   "version": "3.9.15"
  }
 },
 "nbformat": 4,
 "nbformat_minor": 5
}
