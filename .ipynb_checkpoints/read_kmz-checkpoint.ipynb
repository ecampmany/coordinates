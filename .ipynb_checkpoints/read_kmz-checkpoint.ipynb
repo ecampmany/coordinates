{
 "cells": [
  {
   "cell_type": "code",
   "execution_count": 1,
   "id": "d03729b1",
   "metadata": {},
   "outputs": [],
   "source": [
    "from pykml import parser\n",
    "from shapely.geometry import Polygon, box"
   ]
  },
  {
   "cell_type": "code",
   "execution_count": 2,
   "id": "0edbd245",
   "metadata": {},
   "outputs": [],
   "source": [
    "# Specify the path to the KMZ file\n",
    "kmz_file = \"Ica_South.kmz\""
   ]
  },
  {
   "cell_type": "code",
   "execution_count": null,
   "id": "b9ae1a5e",
   "metadata": {},
   "outputs": [],
   "source": [
    "# Parse the KMZ file using pykml\n",
    "with open(kmz_file, 'rb') as f:\n",
    "    root = parser.parse(f).getroot()\n",
    "\n",
    "# Extract the coordinates of the polygon\n",
    "coords_str = str(root.Document.Placemark.Polygon.outerBoundaryIs.LinearRing.coordinates)\n",
    "coords_list = coords_str.strip().split()\n",
    "\n",
    "# Convert the coordinates to a Shapely polygon object\n",
    "coords_tuples = [(float(x.split(',')[0]), float(x.split(',')[1])) for x in coords_list]\n",
    "polygon = Polygon(coords_tuples)\n",
    "\n",
    "# Calculate the minimum bounding box\n",
    "min_bbox = polygon.minimum_rotated_rectangle\n",
    "\n",
    "# Calculate the area of the minimum bounding box\n",
    "bbox_area = min_bbox.area\n",
    "\n",
    "# Print the area of the minimum bounding box\n",
    "print(\"The area of the minimum bounding box is: \", bbox_area)"
   ]
  },
  {
   "cell_type": "code",
   "execution_count": null,
   "id": "e5e112e4",
   "metadata": {},
   "outputs": [],
   "source": []
  }
 ],
 "metadata": {
  "kernelspec": {
   "display_name": "vortexpy-dev",
   "language": "python",
   "name": "vortexpy-dev"
  },
  "language_info": {
   "codemirror_mode": {
    "name": "ipython",
    "version": 3
   },
   "file_extension": ".py",
   "mimetype": "text/x-python",
   "name": "python",
   "nbconvert_exporter": "python",
   "pygments_lexer": "ipython3",
   "version": "3.9.15"
  }
 },
 "nbformat": 4,
 "nbformat_minor": 5
}
